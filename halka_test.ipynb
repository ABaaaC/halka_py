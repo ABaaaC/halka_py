{
 "cells": [
  {
   "cell_type": "code",
   "execution_count": 7,
   "metadata": {},
   "outputs": [],
   "source": [
    "from halka import Halka "
   ]
  },
  {
   "cell_type": "code",
   "execution_count": 8,
   "metadata": {},
   "outputs": [],
   "source": [
    "key = [0x00, 0x00, 0x00, 0x00, 0x00, 0x00, 0x00, 0x00, 0x00, 0x00]\n",
    "key_f = [0xff, 0xff, 0xff, 0xff, 0xff, 0xff, 0xff, 0xff, 0xff, 0xff]\n",
    "halka = Halka(key)\n",
    "halka_f = Halka(key_f)"
   ]
  },
  {
   "cell_type": "code",
   "execution_count": 9,
   "metadata": {},
   "outputs": [],
   "source": [
    "plain = 0x0000000000000000\n",
    "plain_f = 0xffffffffffffffff"
   ]
  },
  {
   "cell_type": "code",
   "execution_count": 10,
   "metadata": {},
   "outputs": [
    {
     "name": "stdout",
     "output_type": "stream",
     "text": [
      "0x0 0x3ac77ccd54c4659d 0x0\n"
     ]
    }
   ],
   "source": [
    "cp1 = halka_f.encrypt(plain)\n",
    "print(hex(plain), hex(cp1), hex(halka_f.decrypt(cp1)))"
   ]
  },
  {
   "cell_type": "code",
   "execution_count": 11,
   "metadata": {},
   "outputs": [
    {
     "name": "stdout",
     "output_type": "stream",
     "text": [
      "0x0 0x5018b55765439dce 0x0\n"
     ]
    }
   ],
   "source": [
    "cp2 = halka.encrypt(plain)\n",
    "print(hex(plain), hex(cp2), hex(halka.decrypt(cp2)))"
   ]
  },
  {
   "cell_type": "code",
   "execution_count": 12,
   "metadata": {},
   "outputs": [
    {
     "name": "stdout",
     "output_type": "stream",
     "text": [
      "0xffffffffffffffff 0x6c1b921ec59b3959 0xffffffffffffffff\n"
     ]
    }
   ],
   "source": [
    "cp3 = halka_f.encrypt(plain_f)\n",
    "print(hex(plain_f), hex(cp3), hex(halka_f.decrypt(cp3)))"
   ]
  },
  {
   "cell_type": "code",
   "execution_count": null,
   "metadata": {},
   "outputs": [],
   "source": []
  }
 ],
 "metadata": {
  "kernelspec": {
   "display_name": "Python 3",
   "language": "python",
   "name": "python3"
  },
  "language_info": {
   "codemirror_mode": {
    "name": "ipython",
    "version": 3
   },
   "file_extension": ".py",
   "mimetype": "text/x-python",
   "name": "python",
   "nbconvert_exporter": "python",
   "pygments_lexer": "ipython3",
   "version": "3.7.6"
  }
 },
 "nbformat": 4,
 "nbformat_minor": 4
}
